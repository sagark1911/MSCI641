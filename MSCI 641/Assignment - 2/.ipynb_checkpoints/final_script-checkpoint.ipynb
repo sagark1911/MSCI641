{
 "cells": [
  {
   "cell_type": "code",
   "execution_count": 1,
   "metadata": {},
   "outputs": [],
   "source": [
    "import sys\n",
    "from sklearn.utils import shuffle\n",
    "from sklearn.feature_extraction.text import CountVectorizer\n",
    "from sklearn import model_selection, naive_bayes, metrics\n",
    "from hypopt import GridSearch\n",
    "import ast\n",
    "import numpy as np"
   ]
  },
  {
   "cell_type": "code",
   "execution_count": null,
   "metadata": {},
   "outputs": [],
   "source": [
    "f = sys.argv[1]\n",
    "\n",
    "training_pos = []\n",
    "\n",
    "for line in f.readlines():\n",
    "    training_pos.append(ast.literal_eval(line))"
   ]
  },
  {
   "cell_type": "code",
   "execution_count": null,
   "metadata": {},
   "outputs": [],
   "source": [
    "f2 = sys.argv[2]\n",
    "\n",
    "training_neg = []\n",
    "\n",
    "for line in f2.readlines():\n",
    "    training_neg.append(ast.literal_eval(line)) "
   ]
  },
  {
   "cell_type": "code",
   "execution_count": null,
   "metadata": {},
   "outputs": [],
   "source": [
    "f3 = sys.argv[3]\n",
    "val_pos = []\n",
    "\n",
    "for line in f3.readlines():\n",
    "    val_pos.append(ast.literal_eval(line)) "
   ]
  },
  {
   "cell_type": "code",
   "execution_count": null,
   "metadata": {},
   "outputs": [],
   "source": [
    "f4 = sys.argv[4]\n",
    "val_neg = []\n",
    "\n",
    "for line in f4.readlines():\n",
    "    val_neg.append(ast.literal_eval(line)) "
   ]
  },
  {
   "cell_type": "code",
   "execution_count": null,
   "metadata": {},
   "outputs": [],
   "source": [
    "f5 = sys.argv[5]\n",
    "test_pos = []\n",
    "\n",
    "for line in f5.readlines():\n",
    "    test_pos.append(ast.literal_eval(line)) "
   ]
  },
  {
   "cell_type": "code",
   "execution_count": null,
   "metadata": {},
   "outputs": [],
   "source": [
    "f6 = sys.argv[6]\n",
    "test_neg = []\n",
    "\n",
    "for line in f6.readlines():\n",
    "    test_neg.append(ast.literal_eval(line)) "
   ]
  },
  {
   "cell_type": "code",
   "execution_count": null,
   "metadata": {},
   "outputs": [],
   "source": [
    "#training_data only unigram\n",
    "vectorizer = CountVectorizer(analyzer='word',tokenizer=lambda text: text, lowercase=False, ngram_range=(1,1))\n",
    "vectorizer.fit(training_pos + training_neg)\n",
    "train = vectorizer.transform(training_pos + training_neg)\n",
    "#validation_data\n",
    "validation = vectorizer.transform(val_pos + val_neg)\n",
    "#test data\n",
    "test = vectorizer.transform(test_pos + test_neg)\n",
    "#labels\n",
    "train_label = np.concatenate((np.ones(len(training_pos)),np.zeros(len(training_neg))))\n",
    "validation_label = np.concatenate((np.ones(len(val_pos)), np.zeros(len(val_neg))))\n",
    "test_label = np.concatenate((np.ones(len(test_pos)), np.zeros(len(test_neg))))\n",
    "mnb = naive_bayes.MultinomialNB()\n",
    "mnb.fit(train,train_label)\n",
    "y_pred = mnb.predict(validation)\n",
    "print(\"Unigrams Validation Accuracy:\",metrics.accuracy_score(validation_label, y_pred))"
   ]
  },
  {
   "cell_type": "code",
   "execution_count": null,
   "metadata": {},
   "outputs": [],
   "source": [
    "#training_data only bigram\n",
    "vectorizer = CountVectorizer(analyzer='word',tokenizer=lambda text: text, lowercase=False, ngram_range=(1,2))\n",
    "vectorizer.fit(training_pos + training_neg)\n",
    "train = vectorizer.transform(training_pos + training_neg)\n",
    "#validation_data\n",
    "validation = vectorizer.transform(val_pos + val_neg)\n",
    "#test data\n",
    "test = vectorizer.transform(test_pos + test_neg)\n",
    "#labels\n",
    "train_label = np.concatenate((np.ones(len(training_pos)),np.zeros(len(training_neg))))\n",
    "validation_label = np.concatenate((np.ones(len(val_pos)), np.zeros(len(val_neg))))\n",
    "test_label = np.concatenate((np.ones(len(test_pos)), np.zeros(len(test_neg))))\n",
    "mnb = naive_bayes.MultinomialNB()\n",
    "mnb.fit(train,train_label)\n",
    "y_pred = mnb.predict(validation)\n",
    "print(\"Bigrams Validation Accuracy:\",metrics.accuracy_score(validation_label, y_pred))"
   ]
  },
  {
   "cell_type": "code",
   "execution_count": null,
   "metadata": {},
   "outputs": [],
   "source": [
    "#training_data both bigram and unigram\n",
    "vectorizer = CountVectorizer(analyzer='word',tokenizer=lambda text: text, lowercase=False, ngram_range=(1,2))\n",
    "vectorizer.fit(training_pos + training_neg)\n",
    "train = vectorizer.transform(training_pos + training_neg)\n",
    "#validation_data\n",
    "validation = vectorizer.transform(val_pos + val_neg)\n",
    "#test data\n",
    "test = vectorizer.transform(test_pos + test_neg)\n",
    "#labels\n",
    "train_label = np.concatenate((np.ones(len(training_pos)),np.zeros(len(training_neg))))\n",
    "validation_label = np.concatenate((np.ones(len(val_pos)), np.zeros(len(val_neg))))\n",
    "test_label = np.concatenate((np.ones(len(test_pos)), np.zeros(len(test_neg))))\n",
    "mnb = naive_bayes.MultinomialNB()\n",
    "mnb.fit(train,train_label)\n",
    "y_pred = mnb.predict(validation)\n",
    "print(\"Unigrams + Bigrams Validation Accuracy:\",metrics.accuracy_score(validation_label, y_pred))"
   ]
  },
  {
   "cell_type": "code",
   "execution_count": null,
   "metadata": {},
   "outputs": [],
   "source": []
  }
 ],
 "metadata": {
  "kernelspec": {
   "display_name": "Python 3",
   "language": "python",
   "name": "python3"
  },
  "language_info": {
   "codemirror_mode": {
    "name": "ipython",
    "version": 3
   },
   "file_extension": ".py",
   "mimetype": "text/x-python",
   "name": "python",
   "nbconvert_exporter": "python",
   "pygments_lexer": "ipython3",
   "version": "3.7.0"
  }
 },
 "nbformat": 4,
 "nbformat_minor": 2
}
