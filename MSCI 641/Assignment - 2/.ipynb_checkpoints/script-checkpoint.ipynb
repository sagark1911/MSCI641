{
 "cells": [
  {
   "cell_type": "code",
   "execution_count": 1,
   "metadata": {},
   "outputs": [],
   "source": [
    "from sklearn.naive_bayes import MultinomialNB\n",
    "import numpy as np\n",
    "import pandas as pd\n",
    "from sklearn.feature_extraction import DictVectorizer\n",
    "import ast\n",
    "from collections import Counter"
   ]
  },
  {
   "cell_type": "code",
   "execution_count": 2,
   "metadata": {},
   "outputs": [],
   "source": [
    "f = open('Dataset/pos/train.csv','r')\n",
    "\n",
    "training_pos = []\n",
    "\n",
    "for line in f.readlines():\n",
    "    training_pos.append(ast.literal_eval(line))"
   ]
  },
  {
   "cell_type": "code",
   "execution_count": 3,
   "metadata": {},
   "outputs": [],
   "source": [
    "f2 = open('Dataset/neg/train.csv','r')\n",
    "\n",
    "training_neg = []\n",
    "\n",
    "for line in f2.readlines():\n",
    "    training_neg.append(ast.literal_eval(line)) "
   ]
  },
  {
   "cell_type": "code",
   "execution_count": 4,
   "metadata": {},
   "outputs": [],
   "source": [
    "pos_bigrams = []\n",
    "for line in training_pos:\n",
    "    bigrams = []\n",
    "    for i in range(0,len(line)-1):\n",
    "        bi = line[i] + \" \" + line[i+1]\n",
    "        bigrams.append(bi)\n",
    "    pos_bigrams.append(bigrams)"
   ]
  },
  {
   "cell_type": "code",
   "execution_count": 5,
   "metadata": {},
   "outputs": [],
   "source": [
    "neg_bigrams = []\n",
    "for line in training_neg:\n",
    "    bigrams = []\n",
    "    for i in range(0,len(line)-1):\n",
    "        bi = line[i] + \" \" + line[i+1]\n",
    "        bigrams.append(bi)\n",
    "    neg_bigrams.append(bigrams)"
   ]
  },
  {
   "cell_type": "code",
   "execution_count": 6,
   "metadata": {},
   "outputs": [],
   "source": [
    "pos_train_data = []\n",
    "for training_data in training_pos:\n",
    "    pos_train_data.append(dict(Counter(training_data)))"
   ]
  },
  {
   "cell_type": "code",
   "execution_count": 7,
   "metadata": {},
   "outputs": [],
   "source": [
    "neg_train_data = []\n",
    "for training_data in training_neg:\n",
    "    neg_train_data.append(dict(Counter(training_data)))"
   ]
  },
  {
   "cell_type": "code",
   "execution_count": 8,
   "metadata": {},
   "outputs": [],
   "source": [
    "pos_train_data_bigrams = []\n",
    "for training_data in pos_bigrams:\n",
    "    pos_train_data_bigrams.append(dict(Counter(training_data)))"
   ]
  },
  {
   "cell_type": "code",
   "execution_count": 9,
   "metadata": {},
   "outputs": [],
   "source": [
    "neg_train_data_bigrams = []\n",
    "for training_data in neg_bigrams:\n",
    "    neg_train_data_bigrams.append(dict(Counter(training_data)))"
   ]
  },
  {
   "cell_type": "code",
   "execution_count": null,
   "metadata": {},
   "outputs": [],
   "source": []
  },
  {
   "cell_type": "code",
   "execution_count": null,
   "metadata": {},
   "outputs": [],
   "source": []
  },
  {
   "cell_type": "code",
   "execution_count": null,
   "metadata": {},
   "outputs": [],
   "source": []
  },
  {
   "cell_type": "code",
   "execution_count": null,
   "metadata": {},
   "outputs": [],
   "source": []
  },
  {
   "cell_type": "code",
   "execution_count": null,
   "metadata": {},
   "outputs": [
    {
     "data": {
      "text/plain": [
       "array([0., 0., 0., ..., 1., 1., 1.])"
      ]
     },
     "execution_count": 10,
     "metadata": {},
     "output_type": "execute_result"
    }
   ],
   "source": [
    "train_data = neg_train_data[0:1000] + pos_train_data[0:1000]\n",
    "pos_label = np.ones(len(pos_train_data[0:1000]))\n",
    "neg_label = np.zeros(len(neg_train_data[0:1000]))\n",
    "label = np.concatenate((neg_label,pos_label))\n",
    "label"
   ]
  },
  {
   "cell_type": "code",
   "execution_count": 1,
   "metadata": {
    "scrolled": true
   },
   "outputs": [
    {
     "ename": "NameError",
     "evalue": "name 'DictVectorizer' is not defined",
     "output_type": "error",
     "traceback": [
      "\u001b[1;31m---------------------------------------------------------------------------\u001b[0m",
      "\u001b[1;31mNameError\u001b[0m                                 Traceback (most recent call last)",
      "\u001b[1;32m<ipython-input-1-18caa3bfb51d>\u001b[0m in \u001b[0;36m<module>\u001b[1;34m\u001b[0m\n\u001b[1;32m----> 1\u001b[1;33m \u001b[0mdv\u001b[0m \u001b[1;33m=\u001b[0m \u001b[0mDictVectorizer\u001b[0m\u001b[1;33m(\u001b[0m\u001b[0msparse\u001b[0m\u001b[1;33m=\u001b[0m\u001b[1;32mFalse\u001b[0m\u001b[1;33m)\u001b[0m\u001b[1;33m\u001b[0m\u001b[0m\n\u001b[0m\u001b[0;32m      2\u001b[0m \u001b[1;33m\u001b[0m\u001b[0m\n\u001b[0;32m      3\u001b[0m \u001b[0mdv\u001b[0m\u001b[1;33m.\u001b[0m\u001b[0mfit\u001b[0m\u001b[1;33m(\u001b[0m\u001b[0mtrain_data\u001b[0m\u001b[1;33m)\u001b[0m\u001b[1;33m\u001b[0m\u001b[0m\n\u001b[0;32m      4\u001b[0m \u001b[1;33m\u001b[0m\u001b[0m\n\u001b[0;32m      5\u001b[0m \u001b[0mX\u001b[0m \u001b[1;33m=\u001b[0m \u001b[1;33m[\u001b[0m\u001b[1;33m]\u001b[0m\u001b[1;33m\u001b[0m\u001b[0m\n",
      "\u001b[1;31mNameError\u001b[0m: name 'DictVectorizer' is not defined"
     ]
    }
   ],
   "source": [
    "dv = DictVectorizer(sparse=False)\n",
    "\n",
    "dv.fit(train_data)\n",
    "\n",
    "X = []\n",
    "Y = np.array(label)\n",
    "\n",
    "mnb = MultinomialNB()\n",
    "\n",
    "\n",
    "\n",
    "for i in range(len(neg_train_data)):\n",
    "    train = []\n",
    "    train.append(neg_train_data[i])\n",
    "    train.append(pos_train_data[i])\n",
    "    X = dv.transform(train)\n",
    "    Y1 = [0,1]\n",
    "    mnb.partial_fit(X,Y1, classes = np.unique(Y1))\n",
    "    if i%100 == 0:\n",
    "        print(i)\n",
    "\n",
    "    \n",
    "\n",
    "\n"
   ]
  },
  {
   "cell_type": "code",
   "execution_count": null,
   "metadata": {},
   "outputs": [],
   "source": []
  },
  {
   "cell_type": "code",
   "execution_count": null,
   "metadata": {},
   "outputs": [],
   "source": [
    "val_neg = ['these', 'were', 'okay', 'but', 'arrived', 'tasting', 'old', '.', '.', '.', 'we', 'refrigerated', 'them', 'and', 'they', 'got', 'sticky', '.', '.', 'were', 'afraid', 'they', 'were', \"'\", 't', \"'\", 'good', 'so', 'ended', 'up', 'throwing', 'them', 'away', '.']\n",
    "val_pos = ['came', 'in', 'one', 'piece', ',', 'nicely', 'packed', 'and', 'works', 'perfect', 'for', 'my', 'rice', 'and', 'cous', 'cous', 'which', 'i', 'buy', 'in', 'bulk', 'and', 'store', 'on', 'my', 'counter', '.']"
   ]
  },
  {
   "cell_type": "code",
   "execution_count": null,
   "metadata": {},
   "outputs": [],
   "source": [
    "val = [dict(Counter(val_neg))]\n",
    "VAL = dv.transform(val)\n",
    "\n",
    "mnb.predict(VAL)"
   ]
  },
  {
   "cell_type": "code",
   "execution_count": null,
   "metadata": {},
   "outputs": [],
   "source": [
    "val = [dict(Counter(val_pos))]\n",
    "VAL = dv.transform(val)\n",
    "\n",
    "mnb.predict(VAL)"
   ]
  },
  {
   "cell_type": "code",
   "execution_count": null,
   "metadata": {},
   "outputs": [],
   "source": []
  },
  {
   "cell_type": "code",
   "execution_count": null,
   "metadata": {},
   "outputs": [],
   "source": []
  },
  {
   "cell_type": "code",
   "execution_count": null,
   "metadata": {},
   "outputs": [],
   "source": []
  },
  {
   "cell_type": "code",
   "execution_count": null,
   "metadata": {},
   "outputs": [],
   "source": []
  },
  {
   "cell_type": "code",
   "execution_count": null,
   "metadata": {},
   "outputs": [],
   "source": [
    "validation_pos = pd.read_csv(folder + '/' + 'pos' + '/' + 'val.csv')\n",
    "validation_neg = pd.read_csv(folder + '/' + 'neg' + '/' + 'val.csv')\n",
    "test_pos = pd.read_csv(folder + '/' + 'pos' + '/' + 'test.csv')\n",
    "test_neg = pd.read_csv(folder + '/' + 'neg' + '/' + 'test.csv')"
   ]
  },
  {
   "cell_type": "code",
   "execution_count": null,
   "metadata": {},
   "outputs": [],
   "source": []
  }
 ],
 "metadata": {
  "kernelspec": {
   "display_name": "Python 3",
   "language": "python",
   "name": "python3"
  },
  "language_info": {
   "codemirror_mode": {
    "name": "ipython",
    "version": 3
   },
   "file_extension": ".py",
   "mimetype": "text/x-python",
   "name": "python",
   "nbconvert_exporter": "python",
   "pygments_lexer": "ipython3",
   "version": "3.7.0"
  }
 },
 "nbformat": 4,
 "nbformat_minor": 2
}
