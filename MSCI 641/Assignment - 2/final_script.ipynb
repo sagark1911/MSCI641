{
 "cells": [
  {
   "cell_type": "code",
   "execution_count": 1,
   "metadata": {},
   "outputs": [],
   "source": [
    "import sys\n",
    "from sklearn.utils import shuffle\n",
    "from sklearn.feature_extraction.text import CountVectorizer\n",
    "from sklearn import model_selection, naive_bayes, metrics\n",
    "from hypopt import GridSearch\n",
    "import ast\n",
    "import numpy as np"
   ]
  },
  {
   "cell_type": "code",
   "execution_count": 2,
   "metadata": {},
   "outputs": [],
   "source": [
    "f = open('Dataset/pos/train.csv','r')\n",
    "\n",
    "training_pos = []\n",
    "\n",
    "for line in f.readlines():\n",
    "    training_pos.append(ast.literal_eval(line))"
   ]
  },
  {
   "cell_type": "code",
   "execution_count": 3,
   "metadata": {},
   "outputs": [],
   "source": [
    "f2 = open('Dataset/neg/train.csv','r')\n",
    "\n",
    "training_neg = []\n",
    "\n",
    "for line in f2.readlines():\n",
    "    training_neg.append(ast.literal_eval(line)) "
   ]
  },
  {
   "cell_type": "code",
   "execution_count": 4,
   "metadata": {},
   "outputs": [],
   "source": [
    "f3 = open('Dataset/pos/val.csv','r')\n",
    "val_pos = []\n",
    "\n",
    "for line in f3.readlines():\n",
    "    val_pos.append(ast.literal_eval(line)) "
   ]
  },
  {
   "cell_type": "code",
   "execution_count": 5,
   "metadata": {},
   "outputs": [],
   "source": [
    "f4 = open('Dataset/neg/val.csv','r')\n",
    "val_neg = []\n",
    "\n",
    "for line in f4.readlines():\n",
    "    val_neg.append(ast.literal_eval(line)) "
   ]
  },
  {
   "cell_type": "code",
   "execution_count": 6,
   "metadata": {},
   "outputs": [],
   "source": [
    "f5 = open('Dataset/pos/test.csv','r')\n",
    "test_pos = []\n",
    "\n",
    "for line in f5.readlines():\n",
    "    test_pos.append(ast.literal_eval(line)) "
   ]
  },
  {
   "cell_type": "code",
   "execution_count": 7,
   "metadata": {},
   "outputs": [],
   "source": [
    "f6 = open('Dataset/neg/test.csv','r')\n",
    "test_neg = []\n",
    "\n",
    "for line in f6.readlines():\n",
    "    test_neg.append(ast.literal_eval(line)) "
   ]
  },
  {
   "cell_type": "code",
   "execution_count": 8,
   "metadata": {},
   "outputs": [],
   "source": [
    "training_pos = training_pos[0:40000]\n",
    "training_neg = training_neg[0:40000]"
   ]
  },
  {
   "cell_type": "code",
   "execution_count": 9,
   "metadata": {},
   "outputs": [
    {
     "name": "stdout",
     "output_type": "stream",
     "text": [
      "Unigrams Validation Accuracy Alpha = 0 : 0.7820625\n"
     ]
    },
    {
     "name": "stderr",
     "output_type": "stream",
     "text": [
      "c:\\users\\sagar\\appdata\\local\\programs\\python\\python37-32\\lib\\site-packages\\sklearn\\naive_bayes.py:480: UserWarning: alpha too small will result in numeric errors, setting alpha = 1.0e-10\n",
      "  'setting alpha = %.1e' % _ALPHA_MIN)\n"
     ]
    }
   ],
   "source": [
    "#training_data only unigram\n",
    "vectorizer = CountVectorizer(analyzer='word',tokenizer=lambda text: text, lowercase=False, ngram_range=(1,1))\n",
    "vectorizer.fit(training_pos + training_neg)\n",
    "train = vectorizer.transform(training_pos + training_neg)\n",
    "#validation_data\n",
    "validation = vectorizer.transform(val_pos + val_neg)\n",
    "#test data\n",
    "test = vectorizer.transform(test_pos + test_neg)\n",
    "#labels\n",
    "train_label = np.concatenate((np.ones(len(training_pos)),np.zeros(len(training_neg))))\n",
    "validation_label = np.concatenate((np.ones(len(val_pos)), np.zeros(len(val_neg))))\n",
    "test_label = np.concatenate((np.ones(len(test_pos)), np.zeros(len(test_neg))))\n",
    "mnb = naive_bayes.MultinomialNB(alpha = 0)\n",
    "mnb.fit(train,train_label)\n",
    "y_pred = mnb.predict(validation)\n",
    "print(\"Unigrams Validation Accuracy Alpha = 0 :\",metrics.accuracy_score(validation_label, y_pred))"
   ]
  },
  {
   "cell_type": "code",
   "execution_count": 10,
   "metadata": {},
   "outputs": [
    {
     "name": "stdout",
     "output_type": "stream",
     "text": [
      "Unigrams Validation Accuracy Alpha = 1 : 0.7951375\n"
     ]
    }
   ],
   "source": [
    "#training_data only unigram\n",
    "vectorizer = CountVectorizer(analyzer='word',tokenizer=lambda text: text, lowercase=False, ngram_range=(1,1))\n",
    "vectorizer.fit(training_pos + training_neg)\n",
    "train = vectorizer.transform(training_pos + training_neg)\n",
    "#validation_data\n",
    "validation = vectorizer.transform(val_pos + val_neg)\n",
    "#test data\n",
    "test = vectorizer.transform(test_pos + test_neg)\n",
    "#labels\n",
    "train_label = np.concatenate((np.ones(len(training_pos)),np.zeros(len(training_neg))))\n",
    "validation_label = np.concatenate((np.ones(len(val_pos)), np.zeros(len(val_neg))))\n",
    "test_label = np.concatenate((np.ones(len(test_pos)), np.zeros(len(test_neg))))\n",
    "mnb = naive_bayes.MultinomialNB(alpha = 1)\n",
    "mnb.fit(train,train_label)\n",
    "y_pred = mnb.predict(validation)\n",
    "print(\"Unigrams Validation Accuracy Alpha = 1 :\",metrics.accuracy_score(validation_label, y_pred))"
   ]
  },
  {
   "cell_type": "code",
   "execution_count": 11,
   "metadata": {},
   "outputs": [
    {
     "name": "stdout",
     "output_type": "stream",
     "text": [
      "Unigrams Validation Accuracy Alpha = 3: 0.7922\n"
     ]
    }
   ],
   "source": [
    "#training_data only unigram\n",
    "vectorizer = CountVectorizer(analyzer='word',tokenizer=lambda text: text, lowercase=False, ngram_range=(1,1))\n",
    "vectorizer.fit(training_pos + training_neg)\n",
    "train = vectorizer.transform(training_pos + training_neg)\n",
    "#validation_data\n",
    "validation = vectorizer.transform(val_pos + val_neg)\n",
    "#test data\n",
    "test = vectorizer.transform(test_pos + test_neg)\n",
    "#labels\n",
    "train_label = np.concatenate((np.ones(len(training_pos)),np.zeros(len(training_neg))))\n",
    "validation_label = np.concatenate((np.ones(len(val_pos)), np.zeros(len(val_neg))))\n",
    "test_label = np.concatenate((np.ones(len(test_pos)), np.zeros(len(test_neg))))\n",
    "mnb = naive_bayes.MultinomialNB(alpha = 3)\n",
    "mnb.fit(train,train_label)\n",
    "y_pred = mnb.predict(validation)\n",
    "print(\"Unigrams Validation Accuracy Alpha = 3:\",metrics.accuracy_score(validation_label, y_pred))"
   ]
  },
  {
   "cell_type": "code",
   "execution_count": 12,
   "metadata": {},
   "outputs": [
    {
     "name": "stdout",
     "output_type": "stream",
     "text": [
      "Test Score for Optimized Parameters: 0.7978\n"
     ]
    }
   ],
   "source": [
    "opt = GridSearch(model = naive_bayes.MultinomialNB(), param_grid = [{'alpha': [0.1, 0.2, 0.3, 0.4,0.5,0.6,0.7,0.8,1,2,3,4]}])\n",
    "opt.fit(train, train_label, validation, validation_label)\n",
    "print('Test Score for Optimized Parameters: {:.4f}'.format(opt.score(test, test_label)))"
   ]
  },
  {
   "cell_type": "code",
   "execution_count": 13,
   "metadata": {},
   "outputs": [
    {
     "name": "stderr",
     "output_type": "stream",
     "text": [
      "c:\\users\\sagar\\appdata\\local\\programs\\python\\python37-32\\lib\\site-packages\\sklearn\\naive_bayes.py:480: UserWarning: alpha too small will result in numeric errors, setting alpha = 1.0e-10\n",
      "  'setting alpha = %.1e' % _ALPHA_MIN)\n"
     ]
    },
    {
     "name": "stdout",
     "output_type": "stream",
     "text": [
      "Bigrams Validation Accuracy Alpha = 0: 0.7559875\n"
     ]
    }
   ],
   "source": [
    "#training_data only bigram\n",
    "vectorizer = CountVectorizer(analyzer='word',tokenizer=lambda text: text, lowercase=False, ngram_range=(2,2))\n",
    "vectorizer.fit(training_pos + training_neg)\n",
    "train = vectorizer.transform(training_pos + training_neg)\n",
    "#validation_data\n",
    "validation = vectorizer.transform(val_pos + val_neg)\n",
    "#test data\n",
    "test = vectorizer.transform(test_pos + test_neg)\n",
    "#labels\n",
    "train_label = np.concatenate((np.ones(len(training_pos)),np.zeros(len(training_neg))))\n",
    "validation_label = np.concatenate((np.ones(len(val_pos)), np.zeros(len(val_neg))))\n",
    "test_label = np.concatenate((np.ones(len(test_pos)), np.zeros(len(test_neg))))\n",
    "mnb = naive_bayes.MultinomialNB(alpha = 0)\n",
    "mnb.fit(train,train_label)\n",
    "y_pred = mnb.predict(validation)\n",
    "print(\"Bigrams Validation Accuracy Alpha = 0:\",metrics.accuracy_score(validation_label, y_pred))"
   ]
  },
  {
   "cell_type": "code",
   "execution_count": 14,
   "metadata": {},
   "outputs": [
    {
     "name": "stdout",
     "output_type": "stream",
     "text": [
      "Bigrams Validation Accuracy Alpha = 1: 0.7937875\n"
     ]
    }
   ],
   "source": [
    "#training_data only bigram\n",
    "vectorizer = CountVectorizer(analyzer='word',tokenizer=lambda text: text, lowercase=False, ngram_range=(2,2))\n",
    "vectorizer.fit(training_pos + training_neg)\n",
    "train = vectorizer.transform(training_pos + training_neg)\n",
    "#validation_data\n",
    "validation = vectorizer.transform(val_pos + val_neg)\n",
    "#test data\n",
    "test = vectorizer.transform(test_pos + test_neg)\n",
    "#labels\n",
    "train_label = np.concatenate((np.ones(len(training_pos)),np.zeros(len(training_neg))))\n",
    "validation_label = np.concatenate((np.ones(len(val_pos)), np.zeros(len(val_neg))))\n",
    "test_label = np.concatenate((np.ones(len(test_pos)), np.zeros(len(test_neg))))\n",
    "mnb = naive_bayes.MultinomialNB(alpha = 1)\n",
    "mnb.fit(train,train_label)\n",
    "y_pred = mnb.predict(validation)\n",
    "print(\"Bigrams Validation Accuracy Alpha = 1:\",metrics.accuracy_score(validation_label, y_pred))"
   ]
  },
  {
   "cell_type": "code",
   "execution_count": 15,
   "metadata": {},
   "outputs": [
    {
     "name": "stdout",
     "output_type": "stream",
     "text": [
      "Bigrams Validation Accuracy Alpha = 3: 0.7854\n"
     ]
    }
   ],
   "source": [
    "#training_data only bigram\n",
    "vectorizer = CountVectorizer(analyzer='word',tokenizer=lambda text: text, lowercase=False, ngram_range=(2,2))\n",
    "vectorizer.fit(training_pos + training_neg)\n",
    "train = vectorizer.transform(training_pos + training_neg)\n",
    "#validation_data\n",
    "validation = vectorizer.transform(val_pos + val_neg)\n",
    "#test data\n",
    "test = vectorizer.transform(test_pos + test_neg)\n",
    "#labels\n",
    "train_label = np.concatenate((np.ones(len(training_pos)),np.zeros(len(training_neg))))\n",
    "validation_label = np.concatenate((np.ones(len(val_pos)), np.zeros(len(val_neg))))\n",
    "test_label = np.concatenate((np.ones(len(test_pos)), np.zeros(len(test_neg))))\n",
    "mnb = naive_bayes.MultinomialNB(alpha = 3)\n",
    "mnb.fit(train,train_label)\n",
    "y_pred = mnb.predict(validation)\n",
    "print(\"Bigrams Validation Accuracy Alpha = 3:\",metrics.accuracy_score(validation_label, y_pred))"
   ]
  },
  {
   "cell_type": "code",
   "execution_count": 16,
   "metadata": {},
   "outputs": [
    {
     "name": "stdout",
     "output_type": "stream",
     "text": [
      "Test Score for Optimized Parameters: 0.7916\n"
     ]
    }
   ],
   "source": [
    "opt = GridSearch(model = naive_bayes.MultinomialNB(), param_grid = [{'alpha': [0.1, 0.2, 0.3, 0.4,0.5,0.6,0.7,0.8,1,2,3,4]}])\n",
    "opt.fit(train, train_label, validation, validation_label)\n",
    "print('Test Score for Optimized Parameters: {:.4f}'.format(opt.score(test, test_label)))"
   ]
  },
  {
   "cell_type": "code",
   "execution_count": 17,
   "metadata": {},
   "outputs": [
    {
     "name": "stderr",
     "output_type": "stream",
     "text": [
      "c:\\users\\sagar\\appdata\\local\\programs\\python\\python37-32\\lib\\site-packages\\sklearn\\naive_bayes.py:480: UserWarning: alpha too small will result in numeric errors, setting alpha = 1.0e-10\n",
      "  'setting alpha = %.1e' % _ALPHA_MIN)\n"
     ]
    },
    {
     "name": "stdout",
     "output_type": "stream",
     "text": [
      "Unigrams + Bigrams Validation Accuracy Alpha = 0: 0.7671125\n"
     ]
    }
   ],
   "source": [
    "#training_data both bigram and unigram\n",
    "vectorizer = CountVectorizer(analyzer='word',tokenizer=lambda text: text, lowercase=False, ngram_range=(1,2))\n",
    "vectorizer.fit(training_pos + training_neg)\n",
    "train = vectorizer.transform(training_pos + training_neg)\n",
    "#validation_data\n",
    "validation = vectorizer.transform(val_pos + val_neg)\n",
    "#test data\n",
    "test = vectorizer.transform(test_pos + test_neg)\n",
    "#labels\n",
    "train_label = np.concatenate((np.ones(len(training_pos)),np.zeros(len(training_neg))))\n",
    "validation_label = np.concatenate((np.ones(len(val_pos)), np.zeros(len(val_neg))))\n",
    "test_label = np.concatenate((np.ones(len(test_pos)), np.zeros(len(test_neg))))\n",
    "mnb = naive_bayes.MultinomialNB(alpha = 0)\n",
    "mnb.fit(train,train_label)\n",
    "y_pred = mnb.predict(validation)\n",
    "print(\"Unigrams + Bigrams Validation Accuracy Alpha = 0:\",metrics.accuracy_score(validation_label, y_pred))"
   ]
  },
  {
   "cell_type": "code",
   "execution_count": 18,
   "metadata": {},
   "outputs": [
    {
     "name": "stdout",
     "output_type": "stream",
     "text": [
      "Unigrams + Bigrams Validation Accuracy Alpha = 1: 0.810225\n"
     ]
    }
   ],
   "source": [
    "#training_data both bigram and unigram\n",
    "vectorizer = CountVectorizer(analyzer='word',tokenizer=lambda text: text, lowercase=False, ngram_range=(1,2))\n",
    "vectorizer.fit(training_pos + training_neg)\n",
    "train = vectorizer.transform(training_pos + training_neg)\n",
    "#validation_data\n",
    "validation = vectorizer.transform(val_pos + val_neg)\n",
    "#test data\n",
    "test = vectorizer.transform(test_pos + test_neg)\n",
    "#labels\n",
    "train_label = np.concatenate((np.ones(len(training_pos)),np.zeros(len(training_neg))))\n",
    "validation_label = np.concatenate((np.ones(len(val_pos)), np.zeros(len(val_neg))))\n",
    "test_label = np.concatenate((np.ones(len(test_pos)), np.zeros(len(test_neg))))\n",
    "mnb = naive_bayes.MultinomialNB(alpha = 1)\n",
    "mnb.fit(train,train_label)\n",
    "y_pred = mnb.predict(validation)\n",
    "print(\"Unigrams + Bigrams Validation Accuracy Alpha = 1:\",metrics.accuracy_score(validation_label, y_pred))"
   ]
  },
  {
   "cell_type": "code",
   "execution_count": 19,
   "metadata": {},
   "outputs": [
    {
     "name": "stdout",
     "output_type": "stream",
     "text": [
      "Unigrams + Bigrams Validation Accuracy Alpha = 2: 0.806425\n"
     ]
    }
   ],
   "source": [
    "#training_data both bigram and unigram\n",
    "vectorizer = CountVectorizer(analyzer='word',tokenizer=lambda text: text, lowercase=False, ngram_range=(1,2))\n",
    "vectorizer.fit(training_pos + training_neg)\n",
    "train = vectorizer.transform(training_pos + training_neg)\n",
    "#validation_data\n",
    "validation = vectorizer.transform(val_pos + val_neg)\n",
    "#test data\n",
    "test = vectorizer.transform(test_pos + test_neg)\n",
    "#labels\n",
    "train_label = np.concatenate((np.ones(len(training_pos)),np.zeros(len(training_neg))))\n",
    "validation_label = np.concatenate((np.ones(len(val_pos)), np.zeros(len(val_neg))))\n",
    "test_label = np.concatenate((np.ones(len(test_pos)), np.zeros(len(test_neg))))\n",
    "mnb = naive_bayes.MultinomialNB(alpha = 2)\n",
    "mnb.fit(train,train_label)\n",
    "y_pred = mnb.predict(validation)\n",
    "print(\"Unigrams + Bigrams Validation Accuracy Alpha = 2:\",metrics.accuracy_score(validation_label, y_pred))"
   ]
  },
  {
   "cell_type": "code",
   "execution_count": 20,
   "metadata": {},
   "outputs": [
    {
     "name": "stdout",
     "output_type": "stream",
     "text": [
      "Test Score for Optimized Parameters: 0.8101\n"
     ]
    }
   ],
   "source": [
    "opt = GridSearch(model = naive_bayes.MultinomialNB(), param_grid = [{'alpha': [0.1, 0.2, 0.3, 0.4,0.5,0.6,0.7,0.8,1,2,3,4]}])\n",
    "opt.fit(train, train_label, validation, validation_label)\n",
    "print('Test Score for Optimized Parameters: {:.4f}'.format(opt.score(test, test_label)))"
   ]
  },
  {
   "cell_type": "code",
   "execution_count": null,
   "metadata": {},
   "outputs": [],
   "source": []
  }
 ],
 "metadata": {
  "kernelspec": {
   "display_name": "Python 3",
   "language": "python",
   "name": "python3"
  },
  "language_info": {
   "codemirror_mode": {
    "name": "ipython",
    "version": 3
   },
   "file_extension": ".py",
   "mimetype": "text/x-python",
   "name": "python",
   "nbconvert_exporter": "python",
   "pygments_lexer": "ipython3",
   "version": "3.7.0"
  }
 },
 "nbformat": 4,
 "nbformat_minor": 2
}
